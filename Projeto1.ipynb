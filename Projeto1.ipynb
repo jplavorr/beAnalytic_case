{
 "cells": [
  {
   "cell_type": "code",
   "execution_count": 1,
   "id": "8acdf3db",
   "metadata": {},
   "outputs": [],
   "source": [
    "import pandas as pd\n",
    "from bs4 import BeautifulSoup\n",
    "import re\n",
    "import datetime"
   ]
  },
  {
   "cell_type": "code",
   "execution_count": 2,
   "id": "5f14560a",
   "metadata": {},
   "outputs": [],
   "source": [
    "with open(\"request.txt\", \"r\", encoding=\"utf-8\", errors=\"ignore\") as file:\n",
    "    contents = file.read()"
   ]
  },
  {
   "cell_type": "code",
   "execution_count": 3,
   "id": "e928ec62",
   "metadata": {},
   "outputs": [],
   "source": [
    "soup = BeautifulSoup(contents, 'html.parser')"
   ]
  },
  {
   "cell_type": "code",
   "execution_count": 4,
   "id": "d7d7e075",
   "metadata": {},
   "outputs": [],
   "source": [
    "# Encontre todos os blocos de informações do jogo\n",
    "jogo_blocos = soup.find_all('tr', class_='app')"
   ]
  },
  {
   "cell_type": "code",
   "execution_count": 5,
   "id": "d3b82aa5",
   "metadata": {},
   "outputs": [],
   "source": [
    "data = []\n",
    "for jogo in jogo_blocos:\n",
    "    appid = jogo.get('data-appid')\n",
    "    nome = jogo.find('a', class_='b').text.strip()\n",
    "    desconto = jogo.find_all('td')[3].text.strip().replace('%', '').replace('-', '')\n",
    "    desconto = float(desconto) if desconto else None\n",
    "    preco = jogo.find_all('td')[4].text.strip().replace('R$ ', '').replace(',', '.')\n",
    "    preco = float(preco) if preco else None\n",
    "    rating = jogo.find_all('td')[5].text.strip().replace('%', '')\n",
    "    rating = float(rating) if rating else None\n",
    "    end = jogo.find_all('td')[6].text.strip()\n",
    "    started = jogo.find_all('td')[7].text.strip()\n",
    "    release = jogo.find_all('td')[8].text.strip()\n",
    "\n",
    "    # Nova linha para extrair a informação 'new historical low'\n",
    "    new_historical_low = jogo.find('span', class_='highest-discount-major')\n",
    "    new_historical_low = new_historical_low.text.strip() if new_historical_low else 'N/A'\n",
    "\n",
    "\n",
    "    # Crie um dicionário com as informações e adicione à lista de dados\n",
    "    data.append({\n",
    "        'ID': appid,\n",
    "        'Nome': nome,\n",
    "        'Desconto': desconto,\n",
    "        'Preco': preco,\n",
    "        'Rating': rating,\n",
    "        'End': end,\n",
    "        'Started': started,\n",
    "        'Release': release,\n",
    "        'New_Historical_Low': new_historical_low \n",
    "    })"
   ]
  },
  {
   "cell_type": "code",
   "execution_count": 6,
   "id": "d25a11c9",
   "metadata": {},
   "outputs": [],
   "source": [
    "# Crie um DataFrame a partir da lista de dados\n",
    "df = pd.DataFrame(data)"
   ]
  },
  {
   "cell_type": "code",
   "execution_count": 7,
   "id": "ac54599b",
   "metadata": {},
   "outputs": [
    {
     "data": {
      "text/html": [
       "<div>\n",
       "<style scoped>\n",
       "    .dataframe tbody tr th:only-of-type {\n",
       "        vertical-align: middle;\n",
       "    }\n",
       "\n",
       "    .dataframe tbody tr th {\n",
       "        vertical-align: top;\n",
       "    }\n",
       "\n",
       "    .dataframe thead th {\n",
       "        text-align: right;\n",
       "    }\n",
       "</style>\n",
       "<table border=\"1\" class=\"dataframe\">\n",
       "  <thead>\n",
       "    <tr style=\"text-align: right;\">\n",
       "      <th></th>\n",
       "      <th>ID</th>\n",
       "      <th>Nome</th>\n",
       "      <th>Desconto</th>\n",
       "      <th>Preco</th>\n",
       "      <th>Rating</th>\n",
       "      <th>End</th>\n",
       "      <th>Started</th>\n",
       "      <th>Release</th>\n",
       "      <th>New_Historical_Low</th>\n",
       "    </tr>\n",
       "  </thead>\n",
       "  <tbody>\n",
       "    <tr>\n",
       "      <th>0</th>\n",
       "      <td>1092790</td>\n",
       "      <td>Inscryption</td>\n",
       "      <td>64.0</td>\n",
       "      <td>28.97</td>\n",
       "      <td>95.54</td>\n",
       "      <td>in 7 days</td>\n",
       "      <td>7 days ago</td>\n",
       "      <td>Oct 2021</td>\n",
       "      <td>new historical low</td>\n",
       "    </tr>\n",
       "    <tr>\n",
       "      <th>1</th>\n",
       "      <td>1061910</td>\n",
       "      <td>Metal: Hellsinger</td>\n",
       "      <td>50.0</td>\n",
       "      <td>49.99</td>\n",
       "      <td>94.21</td>\n",
       "      <td>in 7 days</td>\n",
       "      <td>7 days ago</td>\n",
       "      <td>Sep 2022</td>\n",
       "      <td>new historical low</td>\n",
       "    </tr>\n",
       "    <tr>\n",
       "      <th>2</th>\n",
       "      <td>1451940</td>\n",
       "      <td>NEEDY STREAMER OVERLOAD</td>\n",
       "      <td>50.0</td>\n",
       "      <td>15.49</td>\n",
       "      <td>93.17</td>\n",
       "      <td>in 7 days</td>\n",
       "      <td>17 days ago</td>\n",
       "      <td>Jan 2022</td>\n",
       "      <td>new historical low</td>\n",
       "    </tr>\n",
       "    <tr>\n",
       "      <th>3</th>\n",
       "      <td>1971650</td>\n",
       "      <td>OCTOPATH TRAVELER II</td>\n",
       "      <td>53.0</td>\n",
       "      <td>202.91</td>\n",
       "      <td>93.03</td>\n",
       "      <td>in 7 days</td>\n",
       "      <td>7 days ago</td>\n",
       "      <td>Feb 2023</td>\n",
       "      <td>new historical low</td>\n",
       "    </tr>\n",
       "    <tr>\n",
       "      <th>4</th>\n",
       "      <td>1369630</td>\n",
       "      <td>ENDER LILIES: Quietus of the Knights</td>\n",
       "      <td>50.0</td>\n",
       "      <td>24.74</td>\n",
       "      <td>92.53</td>\n",
       "      <td>in 7 days</td>\n",
       "      <td>17 days ago</td>\n",
       "      <td>Jun 2021</td>\n",
       "      <td>new historical low</td>\n",
       "    </tr>\n",
       "  </tbody>\n",
       "</table>\n",
       "</div>"
      ],
      "text/plain": [
       "        ID                                  Nome  Desconto   Preco  Rating  \\\n",
       "0  1092790                           Inscryption      64.0   28.97   95.54   \n",
       "1  1061910                     Metal: Hellsinger      50.0   49.99   94.21   \n",
       "2  1451940               NEEDY STREAMER OVERLOAD      50.0   15.49   93.17   \n",
       "3  1971650                  OCTOPATH TRAVELER II      53.0  202.91   93.03   \n",
       "4  1369630  ENDER LILIES: Quietus of the Knights      50.0   24.74   92.53   \n",
       "\n",
       "         End      Started   Release  New_Historical_Low  \n",
       "0  in 7 days   7 days ago  Oct 2021  new historical low  \n",
       "1  in 7 days   7 days ago  Sep 2022  new historical low  \n",
       "2  in 7 days  17 days ago  Jan 2022  new historical low  \n",
       "3  in 7 days   7 days ago  Feb 2023  new historical low  \n",
       "4  in 7 days  17 days ago  Jun 2021  new historical low  "
      ]
     },
     "execution_count": 7,
     "metadata": {},
     "output_type": "execute_result"
    }
   ],
   "source": [
    "df.head()"
   ]
  },
  {
   "cell_type": "code",
   "execution_count": 8,
   "id": "93b66e64",
   "metadata": {},
   "outputs": [
    {
     "data": {
      "text/plain": [
       "ID                    0.0\n",
       "Nome                  0.0\n",
       "Desconto              0.0\n",
       "Preco                 0.0\n",
       "Rating                0.0\n",
       "End                   0.0\n",
       "Started               0.0\n",
       "Release               0.0\n",
       "New_Historical_Low    0.0\n",
       "dtype: float64"
      ]
     },
     "execution_count": 8,
     "metadata": {},
     "output_type": "execute_result"
    }
   ],
   "source": [
    "df.isnull().sum() / df.shape[0]"
   ]
  },
  {
   "cell_type": "code",
   "execution_count": 9,
   "id": "944dbb45",
   "metadata": {},
   "outputs": [
    {
     "data": {
      "text/plain": [
       "N/A                   4041\n",
       "new historical low     291\n",
       "Name: New_Historical_Low, dtype: int64"
      ]
     },
     "execution_count": 9,
     "metadata": {},
     "output_type": "execute_result"
    }
   ],
   "source": [
    "df.New_Historical_Low.value_counts()"
   ]
  },
  {
   "cell_type": "code",
   "execution_count": 10,
   "id": "a60016bf",
   "metadata": {},
   "outputs": [],
   "source": [
    "porcentagem_na = df.apply(lambda x: (x == 'N/A').mean() * 100)"
   ]
  },
  {
   "cell_type": "code",
   "execution_count": 11,
   "id": "cdffeeb2",
   "metadata": {},
   "outputs": [
    {
     "data": {
      "text/plain": [
       "ID                     0.000000\n",
       "Nome                   0.000000\n",
       "Desconto               0.000000\n",
       "Preco                  0.000000\n",
       "Rating                 0.000000\n",
       "End                    0.000000\n",
       "Started                0.000000\n",
       "Release                0.000000\n",
       "New_Historical_Low    93.282548\n",
       "dtype: float64"
      ]
     },
     "execution_count": 11,
     "metadata": {},
     "output_type": "execute_result"
    }
   ],
   "source": [
    "porcentagem_na"
   ]
  }
 ],
 "metadata": {
  "kernelspec": {
   "display_name": "Python 3 (ipykernel)",
   "language": "python",
   "name": "python3"
  },
  "language_info": {
   "codemirror_mode": {
    "name": "ipython",
    "version": 3
   },
   "file_extension": ".py",
   "mimetype": "text/x-python",
   "name": "python",
   "nbconvert_exporter": "python",
   "pygments_lexer": "ipython3",
   "version": "3.9.13"
  }
 },
 "nbformat": 4,
 "nbformat_minor": 5
}
